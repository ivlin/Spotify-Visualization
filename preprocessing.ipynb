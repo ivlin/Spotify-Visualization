{
 "cells": [
  {
   "cell_type": "code",
   "execution_count": 42,
   "id": "narrow-witness",
   "metadata": {},
   "outputs": [],
   "source": [
    "import csv\n",
    "\n",
    "def to_dict(columns, data):\n",
    "    d = {}\n",
    "    for ind, category in enumerate(columns):\n",
    "        d[category] = data[ind]\n",
    "    return d\n",
    "\n",
    "key_songs = {}\n",
    "\n",
    "def update_key_songs(title, values):\n",
    "    if title not in key_songs:\n",
    "        key_songs[title] = {}\n",
    "    for key in values:\n",
    "        key_songs[title][key] = values[key]"
   ]
  },
  {
   "cell_type": "code",
   "execution_count": 43,
   "id": "sonic-religious",
   "metadata": {
    "tags": []
   },
   "outputs": [
    {
     "name": "stdout",
     "output_type": "stream",
     "text": [
      "['Position', 'Track Name', 'Artist', 'Streams', 'URL', 'Date', 'Region']\n",
      "7924216 2442\n"
     ]
    }
   ],
   "source": [
    "# https://www.kaggle.com/edumucelli/spotifys-worldwide-daily-song-ranking\n",
    "regions = set()\n",
    "\n",
    "with open(\"num_streams.csv\") as f:\n",
    "    reader = csv.reader(f)\n",
    "    columns = next(reader)\n",
    "    print(columns)\n",
    "    for ind, line in enumerate(reader):\n",
    "        if ind > 0:\n",
    "            line_dict = to_dict(columns, line)\n",
    "            regions.add(line_dict['Region'])\n",
    "            if line_dict['Region'] in ['us', 'ca', 'mx']:\n",
    "                update_key_songs(line_dict['Track Name'].lower(), line_dict)\n",
    "                count += 1\n",
    "\n",
    "print(count, len(key_songs.keys()))"
   ]
  },
  {
   "cell_type": "code",
   "execution_count": 44,
   "id": "characteristic-jacob",
   "metadata": {},
   "outputs": [
    {
     "name": "stdout",
     "output_type": "stream",
     "text": [
      "['danceability', 'energy', 'key', 'loudness', 'mode', 'speechiness', 'acousticness', 'instrumentalness', 'liveness', 'valence', 'tempo', 'type', 'id', 'uri', 'track_href', 'analysis_url', 'duration_ms', 'time_signature', 'genre', 'song_name', 'Unnamed: 0', 'title']\n",
      "682 682\n"
     ]
    }
   ],
   "source": [
    "# https://www.kaggle.com/mrmorj/dataset-of-songs-in-spotify?select=genres_v2.csv\n",
    "intersection = set()\n",
    "\n",
    "with open(\"genres_v2.csv\") as f:\n",
    "    reader = csv.reader(f)\n",
    "    columns = next(reader)\n",
    "    print(columns)\n",
    "    for ind, line in enumerate(reader):\n",
    "        if ind > 0:\n",
    "            line_dict = to_dict(columns, line)\n",
    "            if line_dict['song_name'].lower() in key_songs:\n",
    "                update_key_songs(line_dict['song_name'].lower(), line_dict)\n",
    "                intersection.add(line_dict['song_name'].lower())\n",
    "\n",
    "updated = {}\n",
    "for song in intersection:\n",
    "    updated[song] = key_songs[song]\n",
    "key_songs = updated\n",
    "print(len(intersection), len(key_songs))"
   ]
  },
  {
   "cell_type": "code",
   "execution_count": 45,
   "id": "suffering-exchange",
   "metadata": {},
   "outputs": [
    {
     "name": "stdout",
     "output_type": "stream",
     "text": [
      "['acousticness', 'artists', 'danceability', 'duration_ms', 'energy', 'explicit', 'id', 'instrumentalness', 'key', 'liveness', 'loudness', 'mode', 'name', 'popularity', 'release_date', 'speechiness', 'tempo', 'valence', 'year']\n",
      "682\n",
      "682 549\n",
      "549 549\n"
     ]
    }
   ],
   "source": [
    "# https://www.kaggle.com/yamaerenay/spotify-dataset-19212020-160k-tracks?select=data.csv\n",
    "intersection = set()\n",
    "\n",
    "with open(\"all_tracks.csv\") as f:\n",
    "    reader = csv.reader(f)\n",
    "    columns = next(reader)\n",
    "    print(columns)\n",
    "    for ind, line in enumerate(reader):\n",
    "        if ind > 0:\n",
    "            line_dict = to_dict(columns, line)\n",
    "            if line_dict['name'].lower() in key_songs:\n",
    "                update_key_songs(line_dict['name'].lower(), line_dict)\n",
    "                intersection.add(line_dict['name'].lower())\n",
    "\n",
    "updated = {}\n",
    "for song in intersection:\n",
    "    updated[song] = key_songs[song]\n",
    "key_songs = updated\n",
    "print(len(intersection), len(key_songs))"
   ]
  },
  {
   "cell_type": "code",
   "execution_count": 73,
   "id": "underlying-italic",
   "metadata": {},
   "outputs": [
    {
     "name": "stdout",
     "output_type": "stream",
     "text": [
      "35\n",
      "['Position', 'Track Name', 'Artist', 'Streams', 'URL', 'Date', 'Region', 'danceability', 'energy', 'key', 'loudness', 'mode', 'speechiness', 'acousticness', 'instrumentalness', 'liveness', 'valence', 'tempo', 'type', 'id', 'uri', 'track_href', 'analysis_url', 'duration_ms', 'time_signature', 'genre', 'song_name', 'Unnamed: 0', 'title', 'artists', 'explicit', 'name', 'popularity', 'release_date', 'year']\n",
      "21\n",
      "['Position', 'Track Name', 'Artist', 'Streams', 'danceability', 'energy', 'key', 'loudness', 'mode', 'speechiness', 'acousticness', 'instrumentalness', 'liveness', 'valence', 'tempo', 'duration_ms', 'time_signature', 'genre', 'explicit', 'popularity', 'year']\n",
      "Position 138 NUMERICAL\n",
      "Track Name 548 CATEGORICAL\n",
      "Artist 249 CATEGORICAL\n",
      "Streams 546 NUMERICAL\n",
      "danceability 352 NUMERICAL\n",
      "energy 391 NUMERICAL\n",
      "key 12 CATEGORICAL\n",
      "loudness 531 NUMERICAL\n",
      "mode 2 CATEGORICAL\n",
      "speechiness 408 NUMERICAL\n",
      "acousticness 486 NUMERICAL\n",
      "instrumentalness 265 NUMERICAL\n",
      "liveness 346 NUMERICAL\n",
      "valence 394 NUMERICAL\n",
      "tempo 546 NUMERICAL\n",
      "duration_ms 543 NUMERICAL\n",
      "time_signature 3 NUMERICAL\n",
      "genre 8 CATEGORICAL\n",
      "explicit 2 CATEGORICAL\n",
      "popularity 84 NUMERICAL\n",
      "year 62 NUMERICAL\n"
     ]
    }
   ],
   "source": [
    "\n",
    "categories = [category for category in key_songs[list(key_songs.keys())[0]]]\n",
    "\n",
    "print(len(categories))\n",
    "print(categories)\n",
    "for category in [\"URL\",\"Date\",\"Region\",\"id\",\"uri\",\n",
    "                 \"track_href\",\"analysis_url\",\"song_name\",\n",
    "                 \"Unnamed: 0\",\"title\",\"type\",\"name\", \"artists\",\n",
    "                \"release_date\"]:\n",
    "    if category in categories:\n",
    "        categories.remove(category)\n",
    "print(len(categories))\n",
    "print(categories)\n",
    "\n",
    "category_counter = {}\n",
    "category_type = {}\n",
    "\n",
    "def is_numeral(s):\n",
    "    try:\n",
    "        _ = float(s)\n",
    "        return True\n",
    "    except ValueError:\n",
    "        return False\n",
    "\n",
    "dummies = {\n",
    "    \"mode\": [\"minor\", \"major\"],\n",
    "    \"explicit\": [\"not explicit\", \"explicit\"],\n",
    "     \"key\": [\"C\", \"C♯\", \"D\", \"D♯\", \"E\", \"F\", \"F♯\", \"G\", \"G♯\", \"A\", \"A♯\", \"B\"]\n",
    "}\n",
    "\n",
    "for category in categories:\n",
    "    category_counter[category] = set()\n",
    "    category_type[category] = \"NUMERICAL\"\n",
    "    \n",
    "for song in key_songs:\n",
    "    if song == 'From The D To The A (feat. Lil Yachty)'.lower():\n",
    "        continue\n",
    "    for category in categories:\n",
    "        category_counter[category].add(key_songs[song][category])\n",
    "        if not is_numeral(key_songs[song][category]):\n",
    "            category_type[category] = \"CATEGORICAL\"\n",
    "        if category in dummies and key_songs[song][category].isnumeric():\n",
    "            key_songs[song][category] = dummies[category][int(key_songs[song][category])]\n",
    "        \n",
    "\n",
    "category_type[\"key\"] = \"CATEGORICAL\"\n",
    "\n",
    "for key in category_counter:\n",
    "    print(key, len(category_counter[key]), category_type[key])\n",
    "    if category_type[key] == \"CATEGORICAL\":\n",
    "        category_type[key] = lambda x: (\"'{}'\" if is_numeral(x) else '\"{}\"').format(x.replace('\"', '\"\"'))\n",
    "    else:\n",
    "        category_type[key] = lambda x: x\n",
    "        \n",
    "\n",
    "with open(\"code/hw1/public/spotify.csv\", \"w\") as f:\n",
    "    f.write(\",\".join([c.lower() for c in categories])+\"\\n\")\n",
    "    for song in key_songs:\n",
    "        f.write(\",\".join([category_type[category](key_songs[song][category]) for category in categories]) + \"\\n\")"
   ]
  }
 ],
 "metadata": {
  "kernelspec": {
   "display_name": "Python 3",
   "language": "python",
   "name": "python3"
  },
  "language_info": {
   "codemirror_mode": {
    "name": "ipython",
    "version": 3
   },
   "file_extension": ".py",
   "mimetype": "text/x-python",
   "name": "python",
   "nbconvert_exporter": "python",
   "pygments_lexer": "ipython3",
   "version": "3.8.5"
  }
 },
 "nbformat": 4,
 "nbformat_minor": 5
}
